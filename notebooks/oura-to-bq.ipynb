{
 "cells": [
  {
   "cell_type": "code",
   "execution_count": 33,
   "id": "b9e7a1c6",
   "metadata": {},
   "outputs": [],
   "source": [
    "import os\n",
    "from datetime import datetime as dt, timedelta\n",
    "\n",
    "import pandas as pd"
   ]
  },
  {
   "cell_type": "code",
   "execution_count": 8,
   "id": "79ba74bd",
   "metadata": {},
   "outputs": [],
   "source": [
    "os.environ['GOOGLE_APPLICATION_CREDENTIALS'] = \"../gcp-credentials.json\"\n",
    "PROJECT_ID = \"digitaltwin-49d59\"\n",
    "PROJECT_NUMBER = \"723647330842\"\n",
    "SECRET_ID = \"oura-personal-access-token\""
   ]
  },
  {
   "cell_type": "code",
   "execution_count": 58,
   "id": "76efb44e",
   "metadata": {},
   "outputs": [],
   "source": [
    "import json\n",
    "from enum import Enum\n",
    "\n",
    "\n",
    "class JsonlineClient:\n",
    "    def __init__(self, dir_path: str) -> None:\n",
    "        self.dir_path = dir_path\n",
    "\n",
    "    def insert(self, json_list: list, file_name):\n",
    "        file_path = f'{self.dir_path}/{file_name}.jsonl'\n",
    "        with open(file_path, 'a', encoding='utf8') as f:\n",
    "            for dic in json_list:\n",
    "                json.dump(dic, f, ensure_ascii=False)\n",
    "                f.write('\\n')"
   ]
  },
  {
   "cell_type": "code",
   "execution_count": 91,
   "id": "78c47e44",
   "metadata": {},
   "outputs": [],
   "source": [
    "from google.cloud import bigquery\n",
    "\n",
    "\n",
    "def insert(json_list, table_name):\n",
    "    bq_client = bigquery.Client()\n",
    "    table_id = f\"digitaltwin-49d59.oura.{table_name}\"\n",
    "\n",
    "    errors = bq_client.insert_rows_json(table_id, json_list)\n",
    "    if errors != []:\n",
    "        print(\"Encountered errors while inserting rows: {}\".format(errors))"
   ]
  },
  {
   "cell_type": "code",
   "execution_count": 19,
   "id": "1e9060d3",
   "metadata": {},
   "outputs": [],
   "source": [
    "def fetch_oura_token():\n",
    "    from google.cloud import secretmanager\n",
    "    client = secretmanager.SecretManagerServiceClient()\n",
    "    response = client.access_secret_version(name=f'projects/{PROJECT_NUMBER}/secrets/{SECRET_ID}/versions/latest')\n",
    "    return response.payload.data"
   ]
  },
  {
   "cell_type": "code",
   "execution_count": 20,
   "id": "45a47c3f",
   "metadata": {},
   "outputs": [],
   "source": [
    "OURA_TOKEN = fetch_oura_token()"
   ]
  },
  {
   "cell_type": "code",
   "execution_count": 23,
   "id": "89346076",
   "metadata": {},
   "outputs": [
    {
     "data": {
      "text/plain": [
       "{'age': 24,\n",
       " 'weight': 56.0,\n",
       " 'height': 169,\n",
       " 'gender': 'male',\n",
       " 'email': 'makeffort134@gmail.com'}"
      ]
     },
     "execution_count": 23,
     "metadata": {},
     "output_type": "execute_result"
    }
   ],
   "source": [
    "from oura import OuraClient\n",
    "client = OuraClient(personal_access_token=OURA_TOKEN)\n",
    "who_am_i = client.user_info()\n",
    "who_am_i"
   ]
  },
  {
   "cell_type": "markdown",
   "id": "3709374f",
   "metadata": {},
   "source": [
    "### activityを例にデータ取得、テーブル作成、クエリして最新を取得、最新をstartにしてAPIリクエストまで"
   ]
  },
  {
   "cell_type": "code",
   "execution_count": 38,
   "id": "9ce138db",
   "metadata": {},
   "outputs": [],
   "source": [
    "# 一旦データ取得・可視化を優先してライブラリを使用する。APIはシンプルなのでしばらく耐えると思う。\n",
    "import oura\n",
    "oura_client = oura.client_pandas.OuraClient(personal_access_token=OURA_TOKEN)"
   ]
  },
  {
   "cell_type": "code",
   "execution_count": 79,
   "id": "02242665",
   "metadata": {},
   "outputs": [],
   "source": [
    "# 一旦めっちゃ昔からすべてのデータ構造パターンが返りそうな量を取得\n",
    "res = oura_client.activity_summary(start=str(dt.today() - timedelta(days=2100)))"
   ]
  },
  {
   "cell_type": "code",
   "execution_count": 80,
   "id": "9a3e1a28",
   "metadata": {},
   "outputs": [
    {
     "data": {
      "text/plain": [
       "627"
      ]
     },
     "execution_count": 80,
     "metadata": {},
     "output_type": "execute_result"
    }
   ],
   "source": [
    "len(res['activity'])"
   ]
  },
  {
   "cell_type": "code",
   "execution_count": 82,
   "id": "9775e4e4",
   "metadata": {},
   "outputs": [],
   "source": [
    "# BQのテーブル作成をschemaありで行うためにjsonlに出力\n",
    "JsonlineClient('../data').insert(res['activity'], 'acitivity')"
   ]
  },
  {
   "cell_type": "code",
   "execution_count": 133,
   "id": "93474a63",
   "metadata": {},
   "outputs": [
    {
     "data": {
      "text/plain": [
       "datetime.date(2021, 9, 23)"
      ]
     },
     "execution_count": 133,
     "metadata": {},
     "output_type": "execute_result"
    }
   ],
   "source": [
    "# 上の出力ファイルからactivityテーブルをBQで手動で作成\n",
    "def fetch_latest_date(table_name, column_date='summary_date'):\n",
    "    client = bigquery.Client()\n",
    "\n",
    "    query = f\"\"\"\n",
    "        SELECT \n",
    "            {column_date}\n",
    "        FROM \n",
    "            `digitaltwin-49d59.oura.{table_name}` \n",
    "        ORDER BY {column_date} DESC\n",
    "        LIMIT 1\n",
    "        \"\"\"\n",
    "\n",
    "    query_job = client.query(query).result()\n",
    "\n",
    "    return list(query_job)[0][column_date]\n",
    "    \n",
    "last_date = fetch_latest_date(table_name='activity')\n",
    "last_date"
   ]
  },
  {
   "cell_type": "code",
   "execution_count": 124,
   "id": "071c3eaa",
   "metadata": {},
   "outputs": [],
   "source": [
    "def fetch_and_update_oura_activity():\n",
    "    summary_kind = 'activity'\n",
    "    latest_date = fetch_latest_date(summary_kind)\n",
    "    res = oura_client.activity_summary(start=str(latest_date + timedelta(days=1)))\n",
    "    print(f\"data size to insert BQ: {len(res[summary_kind])}\")\n",
    "    if len(res[summary_kind]):\n",
    "        insert(res[summary_kind], summary_kind)"
   ]
  },
  {
   "cell_type": "code",
   "execution_count": 109,
   "id": "5b3d8de3",
   "metadata": {},
   "outputs": [
    {
     "name": "stdout",
     "output_type": "stream",
     "text": [
      "data size to insert BQ: 0\n"
     ]
    }
   ],
   "source": [
    "fetch_and_update_oura_activity()"
   ]
  },
  {
   "cell_type": "markdown",
   "id": "4e05a7e1",
   "metadata": {},
   "source": [
    "### activity以外もテーブル作成"
   ]
  },
  {
   "cell_type": "code",
   "execution_count": 112,
   "id": "0a38f5bd",
   "metadata": {},
   "outputs": [],
   "source": [
    "res = oura_client.bedtime_summary(start=str(dt.today() - timedelta(days=2100)))\n",
    "# res = oura_client.bedtime_summary(start=str(dt.today() - timedelta(days=20)))\n",
    "JsonlineClient('../data').insert(res['ideal_bedtimes'], 'bedtime')"
   ]
  },
  {
   "cell_type": "code",
   "execution_count": 116,
   "id": "4860d6e6",
   "metadata": {},
   "outputs": [],
   "source": [
    "res = oura_client.readiness_summary(start=str(dt.today() - timedelta(days=2100)))\n",
    "# res = oura_client.readiness_summary(start=str(dt.today() - timedelta(days=20)))\n",
    "JsonlineClient('../data').insert(res['readiness'], 'readiness')"
   ]
  },
  {
   "cell_type": "code",
   "execution_count": 119,
   "id": "ef31681e",
   "metadata": {},
   "outputs": [],
   "source": [
    "res = oura_client.sleep_summary(start=str(dt.today() - timedelta(days=2100)))\n",
    "# res = oura_client.sleep_summary(start=str(dt.today() - timedelta(days=20)))\n",
    "JsonlineClient('../data').insert(res['sleep'], 'sleep')"
   ]
  },
  {
   "cell_type": "markdown",
   "id": "e79293e6",
   "metadata": {},
   "source": [
    "### マスターとなる関数を作成"
   ]
  },
  {
   "cell_type": "code",
   "execution_count": 129,
   "id": "75648e24",
   "metadata": {},
   "outputs": [],
   "source": [
    "def fetch_and_update_oura_bedtime():\n",
    "    latest_date = fetch_latest_date('bedtime', column_date='date')\n",
    "    res_key = res_key_dict['bedtime']\n",
    "    res = oura_client.bedtime_summary(start=str(latest_date + timedelta(days=1)))\n",
    "    jsonl = res['ideal_bedtimes']\n",
    "    print(f\"bedtime: data size to insert BQ: {len(jsonl)}\")\n",
    "    if len(jsonl):\n",
    "        insert(jsonl, summary_kind)\n",
    "\n",
    "\n",
    "def fetch_and_update_oura():\n",
    "    for summary_kind in ['activity', 'sleep', 'readiness']:\n",
    "        latest_date = fetch_latest_date(summary_kind)\n",
    "        res = getattr(oura_client, f'{summary_kind}_summary')(start=str(latest_date + timedelta(days=1)))\n",
    "        jsonl = res[summary_kind]\n",
    "        print(f\"{summary_kind}: data size to insert BQ: {len(jsonl)}\")\n",
    "        if len(jsonl):\n",
    "            insert(jsonl, summary_kind)\n",
    "    fetch_and_update_oura_bedtime()"
   ]
  },
  {
   "cell_type": "code",
   "execution_count": 135,
   "id": "cfed8ee2",
   "metadata": {},
   "outputs": [
    {
     "name": "stdout",
     "output_type": "stream",
     "text": [
      "activity: data size to insert BQ: 0\n",
      "sleep: data size to insert BQ: 0\n",
      "readiness: data size to insert BQ: 0\n",
      "bedtime: data size to insert BQ: 0\n"
     ]
    }
   ],
   "source": [
    "fetch_and_update_oura()"
   ]
  },
  {
   "cell_type": "code",
   "execution_count": null,
   "id": "94bf399f",
   "metadata": {},
   "outputs": [],
   "source": []
  }
 ],
 "metadata": {
  "kernelspec": {
   "display_name": "digitaltwin",
   "language": "python",
   "name": "digitaltwin"
  },
  "language_info": {
   "codemirror_mode": {
    "name": "ipython",
    "version": 3
   },
   "file_extension": ".py",
   "mimetype": "text/x-python",
   "name": "python",
   "nbconvert_exporter": "python",
   "pygments_lexer": "ipython3",
   "version": "3.8.11"
  }
 },
 "nbformat": 4,
 "nbformat_minor": 5
}
