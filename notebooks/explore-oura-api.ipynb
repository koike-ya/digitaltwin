{
 "cells": [
  {
   "cell_type": "code",
   "execution_count": 1,
   "id": "b9e7a1c6",
   "metadata": {},
   "outputs": [],
   "source": [
    "import os"
   ]
  },
  {
   "cell_type": "code",
   "execution_count": 8,
   "id": "14d06b02",
   "metadata": {},
   "outputs": [],
   "source": [
    "os.environ['GOOGLE_APPLICATION_CREDENTIALS'] = \"../gcp-credentials.json\"\n",
    "PROJECT_ID = \"digitaltwin-49d59\"\n",
    "PROJECT_NUMBER = \"723647330842\"\n",
    "SECRET_ID = \"oura-personal-access-token\""
   ]
  },
  {
   "cell_type": "code",
   "execution_count": 19,
   "id": "5e7d0cc2",
   "metadata": {},
   "outputs": [],
   "source": [
    "def fetch_oura_token():\n",
    "    from google.cloud import secretmanager\n",
    "    client = secretmanager.SecretManagerServiceClient()\n",
    "    response = client.access_secret_version(name=f'projects/{PROJECT_NUMBER}/secrets/{SECRET_ID}/versions/latest')\n",
    "    return response.payload.data"
   ]
  },
  {
   "cell_type": "code",
   "execution_count": 20,
   "id": "ce1d3909",
   "metadata": {},
   "outputs": [],
   "source": [
    "OURA_TOKEN = fetch_oura_token()"
   ]
  },
  {
   "cell_type": "code",
   "execution_count": null,
   "id": "05b17e0e",
   "metadata": {},
   "outputs": [],
   "source": []
  }
 ],
 "metadata": {
  "kernelspec": {
   "display_name": "digitaltwin",
   "language": "python",
   "name": "digitaltwin"
  },
  "language_info": {
   "codemirror_mode": {
    "name": "ipython",
    "version": 3
   },
   "file_extension": ".py",
   "mimetype": "text/x-python",
   "name": "python",
   "nbconvert_exporter": "python",
   "pygments_lexer": "ipython3",
   "version": "3.8.11"
  }
 },
 "nbformat": 4,
 "nbformat_minor": 5
}
